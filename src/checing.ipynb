{
 "cells": [
  {
   "cell_type": "code",
   "execution_count": null,
   "metadata": {},
   "outputs": [],
   "source": [
    "import numpy as np\n",
    "from scipy.linalg import eig\n",
    "import Direct_Stiffness_Method as dsm\n",
    "from Elastic_Critical_Solver import ElasticCriticalLoadSolver\n",
    "\n",
    "# Define nodes\n",
    "nodes = [\n",
    "    dsm.create_node(0.0, 0.0, 0.0, 0, bc=[True, True, True, True, True, True]),\n",
    "    dsm.create_node(30.0, 40.0, 0.0, 1)\n",
    "]\n",
    "\n",
    "# Material and section properties\n",
    "A = np.pi\n",
    "E = 1000\n",
    "nu = 0.3\n",
    "Iy = np.pi / 4\n",
    "Iz = np.pi / 4\n",
    "J = np.pi / 2\n",
    "\n",
    "# Create element\n",
    "element = dsm.create_element(nodes[0], nodes[1], E, nu, A, Iy, Iz, J)\n",
    "elements = [element]\n",
    "\n",
    "# Define loads\n",
    "loads = {1: np.array([-3/5, -4/5, 0.0, 0.0, 0.0, 0.0])}\n",
    "\n",
    "# Initialize the solver\n",
    "solver = ElasticCriticalLoadSolver(nodes, elements, loads, use_interaction_terms=False)\n",
    "\n",
    "# Solve static problem\n",
    "displacements, reactions = dsm.calculate_structure_response(nodes, elements, loads)\n",
    "print(\"Displacements:\", displacements)\n",
    "print(\"Reactions:\", reactions)\n",
    "\n",
    "# Check internal forces\n",
    "internal_forces = solver.compute_internal_forces_and_moments(displacements)\n",
    "Fx2 = internal_forces[(0, 1)][6]\n",
    "print(\"Fx2 (raw from solver):\", Fx2)\n",
    "\n",
    "# Solve eigenvalue problem and get full eigenvectors\n",
    "eigenvalues, eigenvectors = solver.solve_eigenvalue_problem()\n",
    "\n",
    "# Select the smallest positive eigenvalue (Euler buckling)\n",
    "critical_load_factor = np.min(eigenvalues)\n",
    "critical_mode_index = np.argmin(eigenvalues)  # Index of Mode 2 (0.781945)\n",
    "print(f\"Critical Load Factor (Euler Buckling): {critical_load_factor:.6f}\")\n",
    "print(f\"Eigenvector shape: {eigenvectors.shape}\")  # Should be (12, 6)\n",
    "\n",
    "# Plot the Euler buckling mode (Mode 2, index 1 after sorting)\n",
    "solver.plot_buckling_mode(eigenvectors[:, critical_mode_index], scale=10.0)"
   ]
  }
 ],
 "metadata": {
  "kernelspec": {
   "display_name": "Python 3",
   "language": "python",
   "name": "python3"
  },
  "language_info": {
   "codemirror_mode": {
    "name": "ipython",
    "version": 3
   },
   "file_extension": ".py",
   "mimetype": "text/x-python",
   "name": "python",
   "nbconvert_exporter": "python",
   "pygments_lexer": "ipython3",
   "version": "3.x"
  }
 },
 "nbformat": 4,
 "nbformat_minor": 5
}
