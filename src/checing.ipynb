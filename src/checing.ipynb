{
 "cells": [
  {
   "cell_type": "markdown",
   "metadata": {},
   "source": [
    "# 3D Beam Buckling Analysis\n",
    "\n",
    "This notebook tests a vertical beam under compression to compute critical load factors and visualize the buckling mode."
   ]
  },
  {
   "cell_type": "code",
   "execution_count": null,
   "metadata": {},
   "outputs": [],
   "source": [
    "# Import required modules\n",
    "import numpy as np\n",
    "import Direct_Stiffness_Method as dsm\n",
    "import functions as fu\n",
    "import Elastic_Critical_Solver as ecs\n",
    "import matplotlib.pyplot as plt\n",
    "from mpl_toolkits.mplot3d import Axes3D\n",
    "\n",
    "# Ensure plots display in the notebook\n",
    "%matplotlib inline"
   ]
  },
  {
   "cell_type": "code",
   "execution_count": null,
   "metadata": {},
   "outputs": [],
   "source": [
    "# Define nodes: Fixed base at (0,0,0), free top at (0,0,5)\n",
    "nodes = [\n",
    "    {'node_id': 0, 'x': 0.0, 'y': 0.0, 'z': 0.0, 'bc': [True, True, True, True, True, True]},\n",
    "    {'node_id': 1, 'x': 0.0, 'y': 0.0, 'z': 5.0, 'bc': [False, False, False, False, False, False]}\n",
    "]\n",
    "\n",
    "# Material and section properties\n",
    "A = 0.01      # m²\n",
    "E = 200e9     # Pa (steel)\n",
    "nu = 0.3      # Poisson's ratio\n",
    "Iy = 0.0001   # m⁴\n",
    "Iz = 0.0001   # m⁴\n",
    "J = 0.0002    # m⁴\n",
    "\n",
    "# Create element\n",
    "print('Creating element...')\n",
    "element = dsm.create_element(nodes[0], nodes[1], E, nu, A, Iy, Iz, J)\n",
    "elements = [element]\n",
    "\n",
    "# Define loads: 1000 N downward at Node 1\n",
    "loads = {1: np.array([0.0, 0.0, -1000.0, 0.0, 0.0, 0.0])}"
   ]
  },
  {
   "cell_type": "code",
   "execution_count": null,
   "metadata": {},
   "outputs": [],
   "source": [
    "# Inspect the element\n",
    "print('Element properties:')\n",
    "print(f\"Length: {element['L']}\")\n",
    "print(f\"Rotation Matrix:\\n{element['rotation_matrix']}\")\n",
    "print(f\"Local Stiffness Matrix (first few terms):\\n{element['local_stiffness_matrix'][:3, :3]}\")\n",
    "print(f\"Global Stiffness Matrix (first few terms):\\n{element['global_stiffness_matrix'][:3, :3]}\")"
   ]
  },
  {
   "cell_type": "code",
   "execution_count": null,
   "metadata": {},
   "outputs": [],
   "source": [
    "# Run the solver\n",
    "print('Running CriticalLoadSolver...')\n",
    "solver = ecs.CriticalLoadSolver(nodes, elements, loads, include_interactions=False)\n",
    "\n",
    "# Debugging: Check displacements and internal forces\n",
    "displacements, _ = dsm.calculate_structure_response(nodes, elements, loads)\n",
    "print('Displacements:', displacements)\n",
    "internal_forces = solver.compute_internal_forces_and_moments(displacements)\n",
    "print('Internal Forces for Element (0,1):', internal_forces[(0, 1)])\n",
    "fx2, mx2, my1, mz1, my2, mz2 = ecs.moments_from_forces(internal_forces, (0, 1))\n",
    "print('Fx2:', fx2)\n",
    "\n",
    "# Compute eigenvalues and eigenvectors\n",
    "eigenvalues, eigenvectors = solver.compute_eigenvalues()\n",
    "print('Critical Load Factors:', eigenvalues[:3])\n",
    "\n",
    "# Check global matrices\n",
    "print('Global Elastic Stiffness Matrix (first few terms):\\n', dsm.assemble_global_stiffness_matrix(nodes, elements)[:6, :6])\n",
    "print('Global Geometric Stiffness Matrix (first few terms):\\n', solver.global_geo_matrix[:6, :6])"
   ]
  },
  {
   "cell_type": "code",
   "execution_count": null,
   "metadata": {},
   "outputs": [],
   "source": [
    "# Plot the buckling mode\n",
    "print('Plotting mode shape...')\n",
    "solver.plot_mode_shape(eigenvectors[:, 0], scale_factor=0.5)"
   ]
  }
 ],
 "metadata": {
  "kernelspec": {
   "display_name": "Python 3",
   "language": "python",
   "name": "python3"
  },
  "language_info": {
   "codemirror_mode": {
    "name": "ipython",
    "version": 3
   },
   "file_extension": ".py",
   "mimetype": "text/x-python",
   "name": "python",
   "nbconvert_exporter": "python",
   "pygments_lexer": "ipython3",
   "version": "3.x"
  }
 },
 "nbformat": 4,
 "nbformat_minor": 4
}
