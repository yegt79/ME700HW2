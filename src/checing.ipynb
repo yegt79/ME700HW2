{
 "cells": [
  {
   "cell_type": "markdown",
   "metadata": {},
   "source": [
    "# Elastic Critical Load Analysis\n",
    "\n",
    "This notebook performs a structural analysis to determine the critical buckling load of a 3D beam using the Direct Stiffness Method (DSM) and eigenvalue analysis. The beam is modeled with one fixed end and one free end, subjected to a compressive load. We will compute and display:\n",
    "- **Displacements** at the free node.\n",
    "- **Internal forces and moments** for the element.\n",
    "- **Critical load factor** for buckling.\n",
    "\n",
    "### Imports\n",
    "We import necessary libraries for numerical computations, plotting, and custom modules for DSM and geometric stiffness calculations."
   ]
  },
  {
   "cell_type": "code",
   "execution_count": null,
   "metadata": {},
   "outputs": [],
   "source": [
    "import numpy as np\n",
    "import Direct_Stiffness_Method as dsm\n",
    "import functions as fu\n",
    "import Elastic_Critical_Solver as ecs"
   ]
  },
  {
   "cell_type": "markdown",
   "metadata": {},
   "source": [
    "### Define Nodes\n",
    "We define two nodes:\n",
    "- **Node 0**: Fixed at the origin (0, 0, 0) with all 6 DOFs (degrees of freedom) constrained.\n",
    "- **Node 1**: Free at (30, 40, 0) with no boundary conditions, allowing full movement and rotation.\n",
    "\n",
    "Each node is represented as a dictionary with coordinates and boundary conditions (`bc`)."
   ]
  },
  {
   "cell_type": "code",
   "execution_count": null,
   "metadata": {},
   "outputs": [],
   "source": [
    "nodes = [\n",
    "    {'node_id': 0, 'x': 0.0, 'y': 0.0, 'z': 0.0, 'bc': [True, True, True, True, True, True]},  # Fixed\n",
    "    {'node_id': 1, 'x': 30.0, 'y': 40.0, 'z': 0.0, 'bc': [False, False, False, False, False, False]}  # Free\n",
    "]"
   ]
  },
  {
   "cell_type": "markdown",
   "metadata": {},
   "source": [
    "### Material and Section Properties\n",
    "Define the properties of the beam:\n",
    "- **A**: Cross-sectional area (π m², assuming a circular section).\n",
    "- **E**: Young's modulus (1000 Pa, low for illustrative purposes).\n",
    "- **nu**: Poisson's ratio (0.3).\n",
    "- **Iy, Iz**: Moments of inertia about y and z axes (π/4 m⁴).\n",
    "- **J**: Torsion constant (π/2 m⁴).\n",
    "\n",
    "These values are used to compute stiffness matrices."
   ]
  },
  {
   "cell_type": "code",
   "execution_count": null,
   "metadata": {},
   "outputs": [],
   "source": [
    "A = np.pi       # Cross-sectional area (m²)\n",
    "E = 1000        # Young's modulus (Pa)\n",
    "nu = 0.3        # Poisson's ratio\n",
    "Iy = np.pi / 4  # Moment of inertia about y (m⁴)\n",
    "Iz = np.pi / 4  # Moment of inertia about z (m⁴)\n",
    "J = np.pi / 2   # Torsion constant (m⁴)"
   ]
  },
  {
   "cell_type": "markdown",
   "metadata": {},
   "source": [
    "### Create Element\n",
    "We create a single beam element connecting Node 0 to Node 1 using the `create_element` function from the Direct Stiffness Method module. This function computes the local stiffness matrix and rotation matrix based on the node coordinates and material properties."
   ]
  },
  {
   "cell_type": "code",
   "execution_count": null,
   "metadata": {},
   "outputs": [],
   "source": [
    "element = dsm.create_element(nodes[0], nodes[1], E, nu, A, Iy, Iz, J)\n",
    "elements = [element]"
   ]
  },
  {
   "cell_type": "markdown",
   "metadata": {},
   "source": [
    "### Define Loads\n",
    "A compressive load of 1 N is applied at Node 1, directed along the beam axis:\n",
    "- **Fx = -3/5 N**, **Fy = -4/5 N** (components based on the beam's orientation, magnitude = 1 N).\n",
    "- No forces or moments in z-direction or rotational DOFs.\n",
    "\n",
    "Loads are stored in a dictionary with the node ID as the key."
   ]
  },
  {
   "cell_type": "code",
   "execution_count": null,
   "metadata": {},
   "outputs": [],
   "source": [
    "loads = {1: np.array([-3/5, -4/5, 0.0, 0.0, 0.0, 0.0])}  # [Fx, Fy, Fz, Mx, My, Mz]"
   ]
  },
  {
   "cell_type": "markdown",
   "metadata": {},
   "source": [
    "### Initialize Solver\n",
    "We instantiate the `CriticalLoadSolver` from the `Elastic_Critical_Solver` module. The solver computes the critical buckling load by assembling elastic and geometric stiffness matrices. We set `include_interactions=False` to simplify the geometric stiffness calculation (ignoring interaction terms)."
   ]
  },
  {
   "cell_type": "code",
   "execution_count": null,
   "metadata": {},
   "outputs": [],
   "source": [
    "solver = ecs.CriticalLoadSolver(nodes, elements, loads, include_interactions=False)"
   ]
  },
  {
   "cell_type": "markdown",
   "metadata": {},
   "source": [
    "### Compute and Display Results\n",
    "Here, we:\n",
    "1. **Calculate Displacements**: Using DSM to find the displacement vector under the applied load.\n",
    "2. **Compute Internal Forces and Moments**: Extract forces and moments for the element (0, 1).\n",
    "3. **Determine Critical Load Factor**: Solve the eigenvalue problem to find the buckling load factor.\n",
    "4. **Plot Buckling Mode**: Visualize the deformed shape (optional).\n",
    "\n",
    "Only the requested outputs are printed:\n",
    "- Displacements\n",
    "- Force and Moment\n",
    "- Critical Load Factor"
   ]
  },
  {
   "cell_type": "code",
   "execution_count": null,
   "metadata": {},
   "outputs": [],
   "source": [
    "# Compute displacements\n",
    "displacements, _ = dsm.calculate_structure_response(nodes, elements, loads)\n",
    "print(\"Displacements:\", displacements)\n",
    "\n",
    "# Compute internal forces and moments\n",
    "internal_forces = solver.compute_internal_forces_and_moments(displacements)\n",
    "print(\"Force and Moment for Element (0,1):\", ecs.moments_from_forces(internal_forces, (0, 1)))\n",
    "\n",
    "# Compute critical load factor\n",
    "eigenvalues, eigenvectors = solver.compute_eigenvalues()\n",
    "print(\"Critical Load Factor:\", eigenvalues[0] if eigenvalues.size > 0 else \"None\")\n",
    "\n",
    "# Plot the buckling mode shape\n",
    "solver.plot_mode_shape(eigenvectors[:, 0], scale_factor=0.5)"
   ]
  }
 ],
 "metadata": {
  "kernelspec": {
   "display_name": "Python 3",
   "language": "python",
   "name": "python3"
  },
  "language_info": {
   "codemirror_mode": {
    "name": "ipython",
    "version": 3
   },
   "file_extension": ".py",
   "mimetype": "text/x-python",
   "name": "python",
   "nbconvert_exporter": "python",
   "pygments_lexer": "ipython3",
   "version": "3.x"
  }
 },
 "nbformat": 4,
 "nbformat_minor": 5
}
