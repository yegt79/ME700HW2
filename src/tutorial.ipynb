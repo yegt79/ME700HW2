{
 "cells": [
  {
   "cell_type": "markdown",
   "metadata": {},
   "source": [
    "# Beam Element Stiffness Matrix Calculation\n",
    "\n",
    "This tutorial demonstrates how to compute the **global stiffness matrix** for a beam element using the **Direct Stiffness Method** (DSM). The example will show how to define a beam element with material properties, node positions, and calculate the stiffness matrix in Python.\n",
    "\n",
    "We will use a beam element with 4 nodes and compute the global stiffness matrix for the given example properties."
   ]
  },
  {
   "cell_type": "code",
   "execution_count": null,
   "metadata": {},
   "outputs": [],
   "source": [
    "import numpy as np\n",
    "import Direct_Stiffness_Method as dsm"
   ]
  },
  {
   "cell_type": "markdown",
   "metadata": {},
   "source": [
    "### Material Properties and Node Definitions\n",
    "\n",
    "We define the material properties, such as **Young's modulus (E)**, **Poisson's ratio (nu)**, the **cross-sectional area (A)**, moments of inertia (**Iy**, **Iz**, and **J**), and the number of nodes in the beam element. \n",
    "\n",
    "For this example, we use the following values:\n",
    "- **E** = 150 GPa\n",
    "- **nu** = 0.35\n",
    "- **A** = 0.02 m²\n",
    "- **Iy** = 2.0e-6 m⁴\n",
    "- **Iz** = 3.0e-6 m⁴\n",
    "- **J** = 5.0e-6 m⁴\n",
    "\n",
    "We also define the **node positions** along the beam:\n",
    "- Node 1 at (0, 0, 0)\n",
    "- Node 2 at (4, 0, 0)\n",
    "- Node 3 at (8, 0, 0)\n",
    "- Node 4 at (12, 0, 0)\n",
    "\n",
    "Let's go ahead and define these properties in code."
   ]
  },
  {
   "cell_type": "code",
   "execution_count": null,
   "metadata": {},
   "outputs": [],
   "source": [
    "# Example properties for the beam element\n",
    "E = 150e9   # Young's modulus in Pa\n",
    "A = 0.02    # Cross-sectional area in m^2\n",
    "Iy = 2.0e-6  # Moment of inertia about the y-axis in m^4\n",
    "Iz = 3.0e-6  # Moment of inertia about the z-axis in m^4\n",
    "J = 5.0e-6  # Polar moment of inertia in m^4\n",
    "nu = 0.35   # Poisson's ratio (dimensionless)\n",
    "nodes = 4    # Number of nodes in the beam element\n",
    "\n",
    "# Coordinates of the nodes (x, y, z positions)\n",
    "node_positions = [\n",
    "    [0, 0, 0],  # Node 1\n",
    "    [4, 0, 0],  # Node 2\n",
    "    [8, 0, 0],  # Node 3\n",
    "    [12, 0, 0]  # Node 4\n",
    "]"
   ]
  },
  {
   "cell_type": "markdown",
   "metadata": {},
   "source": [
    "### Creating the Beam Element and Calculating the Stiffness Matrix\n",
    "\n",
    "We will now create an instance of the `BeamElement` class with the defined properties. Then, we'll compute the **global stiffness matrix** using the `stiffness_matrix()` method.\n",
    "\n",
    "The global stiffness matrix will be displayed in a formatted and readable way."
   ]
  },
  {
   "cell_type": "code",
   "execution_count": null,
   "metadata": {},
   "outputs": [],
   "source": [
    "# Create a BeamElement object\n",
    "beam_element = dsm.BeamElement(E, nu, A, Iy, Iz, J, nodes)\n",
    "\n",
    "# Compute the global stiffness matrix\n",
    "K_global = beam_element.stiffness_matrix(node_positions)\n",
    "\n",
    "# Display the global stiffness matrix with formatting\n",
    "print('Global Stiffness Matrix (K) for 4-node beam:')\n",
    "print(np.array2string(K_global, formatter={'all': lambda x: f'{x:12.4e}'}))"
   ]
  },
  {
   "cell_type": "markdown",
   "metadata": {},
   "source": [
    "### Global Stiffness Matrix Output\n",
    "\n",
    "The following is the global stiffness matrix **K** for the beam element with 4 nodes:"
   ]
  },
  {
   "cell_type": "code",
   "execution_count": null,
   "metadata": {},
   "outputs": [],
   "source": [
    "# Pretty print the matrix with proper formatting\n",
    "import matplotlib.pyplot as plt\n",
    "\n",
    "# Create a heatmap for visual representation\n",
    "plt.figure(figsize=(8, 6))\n",
    "plt.imshow(K_global, cmap='viridis', interpolation='nearest')\n",
    "plt.colorbar(label='Stiffness Value')\n",
    "plt.title('Global Stiffness Matrix (K) for 4-node Beam')\n",
    "plt.xlabel('Degrees of Freedom')\n",
    "plt.ylabel('Degrees of Freedom')\n",
    "plt.show()"
   ]
  },
  {
   "cell_type": "markdown",
   "metadata": {},
   "source": [
    "### Conclusion\n",
    "\n",
    "In this tutorial, we calculated the **global stiffness matrix** for a **4-node beam element** using the **Direct Stiffness Method** (DSM). We explored how to define the material properties, node positions, and compute the stiffness matrix in Python.\n",
    "\n",
    "This method can be extended to more complex beam elements and structures by adding more nodes, elements, and applying boundary conditions and loads.\n",
    "\n",
    "Happy coding and happy learning! 😊"
   ]
  }
 ],
 "metadata": {
  "kernelspec": {
   "display_name": "Python 3",
   "language": "python",
   "name": "python3"
  },
  "language_info": {
   "codemirror_mode": {
    "name": "ipython",
    "version": 3
   },
   "file_extension": ".py",
   "mimetype": "text/x-python",
   "name": "python",
   "nbconvert_exporter": "python",
   "version": "3.9.7"
  }
 },
 "nbformat": 4,
 "nbformat_minor": 5
}
