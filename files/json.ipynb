{
  "problem_definition": {
    "material_properties": {
      "E": 1000,
      "nu": 0.3,
      "A": 6.283185307179586,
      "Iy": 0.7853981633974483,
      "Iz": 0.7853981633974483,
      "J": 1.5707963267948966,
      "units": {
        "E": "Pa",
        "A": "m^2",
        "Iy": "m^4",
        "Iz": "m^4",
        "J": "m^4"
      }
    },
    "nodes": [
      {
        "x": 0.0,
        "y": 0.0,
        "z": 0.0,
        "id": 0
      },
      {
        "x": 30.0,
        "y": 40.0,
        "z": 0.0,
        "id": 1
      }
    ],
    "elements": [
      {
        "node1_id": 0,
        "node2_id": 1
      }
    ],
    "boundary_conditions": {
      "fixed_nodes": {
        "0": {
          "UX": 0.0,
          "UY": 0.0,
          "UZ": 0.0,
          "RX": 0.0,
          "RY": 0.0,
          "RZ": 0.0
        },
        "1": {
          "UX": null,
          "UY": null,
          "UZ": null,
          "RX": null,
          "RY": null,
          "RZ": null
        }
      }
    },
    "loads": {
      "1": {
        "FX": 600.0,
        "FY": 800.0,
        "FZ": 0.0,
        "MX": 0.0,
        "MY": 0.0,
        "MZ": 0.0,
        "units": {
          "F": "N",
          "M": "N·m"
        }
      }
    }
  },
  "analysis": {
    "solver": {
      "type": "BeamSolver",
      "steps": [
        {
          "action": "static_analysis",
          "method": "solve",
          "outputs": ["displacements", "reactions"]
        },
        {
          "action": "buckling_analysis",
          "method": "solve_buckling",
          "outputs": ["eigenvalues", "eigenvectors"]
        }
      ]
    }
  },
  "plotting": {
    "internal_forces": {
      "description": "Plot internal forces and moments for each element in a 2x3 subplot grid",
      "parameters": {
        "beam": "reference to BeamComponent object",
        "internal_forces": "dictionary from solver.internal_forces",
        "layout": {
          "rows": 2,
          "cols": 3,
          "figsize": [15, 8]
        },
        "subplots": [
          {"title": "Fx", "indices": [0, 6], "ylabel": "Force (N)"},
          {"title": "Fy", "indices": [1, 7], "ylabel": "Force (N)"},
          {"title": "Fz", "indices": [2, 8], "ylabel": "Force (N)"},
          {"title": "Mx", "indices": [3, 9], "ylabel": "Moment (N·m)"},
          {"title": "My", "indices": [4, 10], "ylabel": "Moment (N·m)"},
          {"title": "Mz", "indices": [5, 11], "ylabel": "Moment (N·m)"}
        ],
        "xlabel": "Length (m)",
        "style": "blue line with markers",
        "grid": true
      }
    },
    "deformed_structure": {
      "description": "Plot original (blue dashed) and deformed (red solid) structure in 3D with node markers",
      "parameters": {
        "beam": "reference to BeamComponent object",
        "displacements": "array from solver.solve()",
        "scale": 1000,
        "figsize": [12, 9],
        "labels": {
          "xlabel": "X (m)",
          "ylabel": "Y (m)",
          "zlabel": "Z (m)",
          "title": "Beam Structure (Scale Factor: {scale})"
        },
        "styles": {
          "original": "blue dashed",
          "deformed": "red solid",
          "nodes": "blue scatter"
        }
      }
    },
    "buckling_mode": {
      "description": "Plot original (blue dashed) and buckled (green solid) structure in 3D with interpolated points",
      "parameters": {
        "beam": "reference to BeamComponent object",
        "eigenvector": "column from solver.solve_buckling()[1]",
        "mode_num": 0,
        "scale": 1000,
        "points": 10,
        "figsize": [12, 9],
        "labels": {
          "xlabel": "X (m)",
          "ylabel": "Y (m)",
          "zlabel": "Z (m)",
          "title": "Buckling Mode {mode_num+1} (λ = {eigenvalue:.2f}, Scale = {scale})"
        },
        "styles": {
          "original": "blue dashed",
          "buckled": "green solid"
        }
      }
    }
  },
  "execution": {
    "steps": [
      {
        "action": "initialize_beam",
        "class": "BeamComponent",
        "args": ["nodes", "elements", "E", "nu", "A", "Iy", "Iz", "J"]
      },
      {
        "action": "initialize_bc",
        "class": "BoundaryCondition",
        "args": ["fixed_nodes"]
      },
      {
        "action": "apply_loads",
        "method": "bc.apply_load",
        "args": ["node_id", "load"]
      },
      {
        "action": "initialize_solver",
        "class": "BeamSolver",
        "args": ["beam", "bc"]
      },
      {
        "action": "run_static_analysis",
        "method": "solver.solve"
      },
      {
        "action": "run_buckling_analysis",
        "method": "solver.solve_buckling"
      },
      {
        "action": "plot",
        "methods": [
          "plot_internal_forces",
          "plot_deformed_structure",
          "plot_buckling_mode"
        ]
      }
    ]
  }
}
